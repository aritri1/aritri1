{
  "nbformat": 4,
  "nbformat_minor": 0,
  "metadata": {
    "colab": {
      "provenance": [],
      "authorship_tag": "ABX9TyNWhGwydvnwcI0CnQADCozL",
      "include_colab_link": true
    },
    "kernelspec": {
      "name": "python3",
      "display_name": "Python 3"
    },
    "language_info": {
      "name": "python"
    }
  },
  "cells": [
    {
      "cell_type": "markdown",
      "metadata": {
        "id": "view-in-github",
        "colab_type": "text"
      },
      "source": [
        "<a href=\"https://colab.research.google.com/github/aritri1/aritri1/blob/main/Roll_the_DIce_modified.ipynb\" target=\"_parent\"><img src=\"https://colab.research.google.com/assets/colab-badge.svg\" alt=\"Open In Colab\"/></a>"
      ]
    },
    {
      "cell_type": "code",
      "execution_count": 7,
      "metadata": {
        "colab": {
          "base_uri": "https://localhost:8080/"
        },
        "id": "9EuwlzGtIbcQ",
        "outputId": "51278a3f-6884-4a62-b5be-11d028b02870"
      },
      "outputs": [
        {
          "output_type": "stream",
          "name": "stdout",
          "text": [
            "Dices rolling...\n",
            "The values are :\n",
            "4\n",
            "3\n",
            "Roll the dices again?\ty\n",
            "Dices rolling...\n",
            "The values are :\n",
            "3\n",
            "4\n",
            "Roll the dices again?\tn\n",
            "\n",
            "Thanks for playing\n"
          ]
        }
      ],
      "source": [
        "import random \n",
        "min_val = 1\n",
        "max_val = 6\n",
        "roll_again=\"yes\"\n",
        "while roll_again==\"yes\" or roll_again==\"y\":\n",
        "  print(\"Dices rolling...\")\n",
        "  print(\"The values are :\")\n",
        "  print(random.randint(min_val, max_val))\n",
        "  print(random.randint(min_val, max_val))\n",
        "  roll_again=input(\"Roll the dices again?\\t\")\n",
        "while roll_again==\"no\" or roll_again==\"n\":\n",
        "    break  \n",
        "print(\"\\nThanks for playing\")"
      ]
    }
  ]
}