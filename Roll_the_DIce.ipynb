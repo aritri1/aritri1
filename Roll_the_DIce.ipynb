{
  "nbformat": 4,
  "nbformat_minor": 0,
  "metadata": {
    "colab": {
      "provenance": [],
      "authorship_tag": "ABX9TyOgSX5Xa6IwAC2mWv67swnp",
      "include_colab_link": true
    },
    "kernelspec": {
      "name": "python3",
      "display_name": "Python 3"
    },
    "language_info": {
      "name": "python"
    }
  },
  "cells": [
    {
      "cell_type": "markdown",
      "metadata": {
        "id": "view-in-github",
        "colab_type": "text"
      },
      "source": [
        "<a href=\"https://colab.research.google.com/github/aritri1/aritri1/blob/main/Roll_the_DIce.ipynb\" target=\"_parent\"><img src=\"https://colab.research.google.com/assets/colab-badge.svg\" alt=\"Open In Colab\"/></a>"
      ]
    },
    {
      "cell_type": "code",
      "execution_count": 26,
      "metadata": {
        "colab": {
          "base_uri": "https://localhost:8080/"
        },
        "id": "9EuwlzGtIbcQ",
        "outputId": "20b67892-6369-482e-da13-630b296769dc"
      },
      "outputs": [
        {
          "name": "stdout",
          "output_type": "stream",
          "text": [
            "Dices rolling...\n",
            "The values are :\n",
            "3\n",
            "1\n",
            "Roll the dices again?y\n",
            "Dices rolling...\n",
            "The values are :\n",
            "2\n",
            "1\n",
            "Roll the dices again?n\n"
          ]
        }
      ],
      "source": [
        "import random \n",
        "min_val = 1\n",
        "max_val = 6\n",
        "roll_again=\"yes\"\n",
        "while roll_again==\"yes\" or roll_again==\"y\":\n",
        "  print(\"Dices rolling...\")\n",
        "  print(\"The values are :\")\n",
        "  print(random.randint(min_val, max_val))\n",
        "  print(random.randint(min_val, max_val))\n",
        "  roll_again=input(\"Roll the dices again?\")"
      ]
    }
  ]
}